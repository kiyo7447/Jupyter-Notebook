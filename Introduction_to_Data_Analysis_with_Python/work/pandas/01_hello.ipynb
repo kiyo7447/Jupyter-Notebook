{
 "cells": [
  {
   "cell_type": "code",
   "execution_count": 86,
   "id": "aaf46feb-2966-4bb0-a156-40c2db54af73",
   "metadata": {},
   "outputs": [
    {
     "name": "stdout",
     "output_type": "stream",
     "text": [
      "Hello, pandas!\n"
     ]
    }
   ],
   "source": [
    "print(\"Hello, pandas!\")"
   ]
  },
  {
   "cell_type": "code",
   "execution_count": 87,
   "id": "ea51f8a3",
   "metadata": {},
   "outputs": [
    {
     "data": {
      "text/html": [
       "<div>\n",
       "<style scoped>\n",
       "    .dataframe tbody tr th:only-of-type {\n",
       "        vertical-align: middle;\n",
       "    }\n",
       "\n",
       "    .dataframe tbody tr th {\n",
       "        vertical-align: top;\n",
       "    }\n",
       "\n",
       "    .dataframe thead th {\n",
       "        text-align: right;\n",
       "    }\n",
       "</style>\n",
       "<table border=\"1\" class=\"dataframe\">\n",
       "  <thead>\n",
       "    <tr style=\"text-align: right;\">\n",
       "      <th></th>\n",
       "      <th>0</th>\n",
       "      <th>1</th>\n",
       "      <th>2</th>\n",
       "      <th>3</th>\n",
       "    </tr>\n",
       "  </thead>\n",
       "  <tbody>\n",
       "    <tr>\n",
       "      <th>0</th>\n",
       "      <td>0.130130</td>\n",
       "      <td>0.336186</td>\n",
       "      <td>0.523300</td>\n",
       "      <td>0.248150</td>\n",
       "    </tr>\n",
       "    <tr>\n",
       "      <th>1</th>\n",
       "      <td>0.331075</td>\n",
       "      <td>0.379827</td>\n",
       "      <td>0.297926</td>\n",
       "      <td>0.802582</td>\n",
       "    </tr>\n",
       "    <tr>\n",
       "      <th>2</th>\n",
       "      <td>0.715639</td>\n",
       "      <td>0.319641</td>\n",
       "      <td>0.654764</td>\n",
       "      <td>0.590478</td>\n",
       "    </tr>\n",
       "    <tr>\n",
       "      <th>3</th>\n",
       "      <td>0.872943</td>\n",
       "      <td>0.469604</td>\n",
       "      <td>0.206328</td>\n",
       "      <td>0.859363</td>\n",
       "    </tr>\n",
       "    <tr>\n",
       "      <th>4</th>\n",
       "      <td>0.492036</td>\n",
       "      <td>0.877590</td>\n",
       "      <td>0.283505</td>\n",
       "      <td>0.370644</td>\n",
       "    </tr>\n",
       "    <tr>\n",
       "      <th>5</th>\n",
       "      <td>0.528408</td>\n",
       "      <td>0.166128</td>\n",
       "      <td>0.240879</td>\n",
       "      <td>0.085397</td>\n",
       "    </tr>\n",
       "  </tbody>\n",
       "</table>\n",
       "</div>"
      ],
      "text/plain": [
       "          0         1         2         3\n",
       "0  0.130130  0.336186  0.523300  0.248150\n",
       "1  0.331075  0.379827  0.297926  0.802582\n",
       "2  0.715639  0.319641  0.654764  0.590478\n",
       "3  0.872943  0.469604  0.206328  0.859363\n",
       "4  0.492036  0.877590  0.283505  0.370644\n",
       "5  0.528408  0.166128  0.240879  0.085397"
      ]
     },
     "execution_count": 87,
     "metadata": {},
     "output_type": "execute_result"
    }
   ],
   "source": [
    "# Path: 02_dataframe.ipynb\n",
    "import pandas as pd\n",
    "import numpy as np\n",
    "# データフレームを使って適当なデータを作って、pandasを使ってみる\n",
    "df = pd.DataFrame(np.random.rand(6,4))\n",
    "df\n"
   ]
  }
 ],
 "metadata": {
  "kernelspec": {
   "display_name": "Python 3 (ipykernel)",
   "language": "python",
   "name": "python3"
  },
  "language_info": {
   "codemirror_mode": {
    "name": "ipython",
    "version": 3
   },
   "file_extension": ".py",
   "mimetype": "text/x-python",
   "name": "python",
   "nbconvert_exporter": "python",
   "pygments_lexer": "ipython3",
   "version": "3.11.5"
  }
 },
 "nbformat": 4,
 "nbformat_minor": 5
}
